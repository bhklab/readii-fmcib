{
 "cells": [
  {
   "cell_type": "markdown",
   "metadata": {},
   "source": [
    "# Create READII negative control CTs to run through FMCIB\n",
    "\n",
    "This code utilizes the RADCURE dataset from TCIA. This dataset is under the TCIA Restricted License, so users will need to request access prior to running this code.\n",
    "\n",
    "We will be using the RADCURE test subset specified in the clinical data sheet. "
   ]
  },
  {
   "cell_type": "markdown",
   "metadata": {},
   "source": [
    "## Set up pixi environment kernel\n",
    "\n",
    "1. Run the following commands in the terminal:\n",
    "\n",
    "    ```bash\n",
    "    $ pixi install\n",
    "\n",
    "    $ pixi run make_kernel\n",
    "    ```\n",
    "\n",
    "2. In the `Select Kernel` menu at the top right of the notebook, select `Jupyter Kernel` as the source. \n",
    "\n",
    "3. Refresh the options and one called `readii-fmcib` should appear. Select this option."
   ]
  },
  {
   "cell_type": "markdown",
   "metadata": {},
   "source": [
    "## Imports"
   ]
  },
  {
   "cell_type": "code",
   "execution_count": 1,
   "metadata": {},
   "outputs": [],
   "source": [
    "import csv\n",
    "import itertools\n",
    "import pandas as pd\n",
    "import SimpleITK as sitk \n",
    "import shutil\n",
    "import yaml\n",
    "\n",
    "from imgtools.autopipeline import AutoPipeline\n",
    "from pathlib import Path\n",
    "from readii.io.loaders import loadImageDatasetConfig\n",
    "from readii.negative_controls import applyNegativeControl\n",
    "from tqdm.notebook import tqdm\n",
    "\n",
    "import sys; sys.path.append(\"code\")\n",
    "from process_readii import find_bbox, crop_bbox"
   ]
  },
  {
   "cell_type": "markdown",
   "metadata": {},
   "source": [
    "## Initialize dataset name and negative control settings"
   ]
  },
  {
   "cell_type": "code",
   "execution_count": 2,
   "metadata": {},
   "outputs": [],
   "source": [
    "config = loadImageDatasetConfig(\"RADCURE\", Path(\"config\"))\n",
    "\n",
    "DATASET_NAME = config[\"dataset_name\"]\n",
    "NEG_CONTROL_REGIONS = config[\"negative_control_regions\"]\n",
    "NEG_CONTROL_TYPES = config[\"negative_control_types\"]"
   ]
  },
  {
   "cell_type": "markdown",
   "metadata": {},
   "source": [
    "## Set up data directories"
   ]
  },
  {
   "cell_type": "code",
   "execution_count": 3,
   "metadata": {},
   "outputs": [],
   "source": [
    "for combo in itertools.product([\"rawdata\", \"procdata\"], [DATASET_NAME], [\"clinical\", \"images\"]):\n",
    "    Path(*combo).mkdir(parents=True, exist_ok=True)\n",
    "\n",
    "raw_images_dir = Path(\"rawdata\", DATASET_NAME , \"images\")\n",
    "proc_images_dir = Path(\"procdata\", DATASET_NAME, \"images\")"
   ]
  },
  {
   "cell_type": "markdown",
   "metadata": {},
   "source": [
    "## Copy the raw image data for RADCURE test set to the `rawdata/RADCURE/images` directory"
   ]
  },
  {
   "cell_type": "code",
   "execution_count": 4,
   "metadata": {},
   "outputs": [],
   "source": [
    "# INPUT THE PATH TO THE RADCURE IMAGE DATA\n",
    "image_dir_path = Path(\"/home/bioinf/bhklab/radiomics/radiomics_orcestra/rawdata/RADCURE/images/zipped\")"
   ]
  },
  {
   "cell_type": "code",
   "execution_count": 15,
   "metadata": {},
   "outputs": [
    {
     "name": "stdout",
     "output_type": "stream",
     "text": [
      "Copy of RADCURE-0300's image file already exists.\n"
     ]
    }
   ],
   "source": [
    "patient_ID_list_file = Path(\"./rawdata/RADCURE/clinical/col_test_patient_IDs_RADCURE.csv\")\n",
    "copy_dir_path = Path(raw_images_dir)\n",
    "\n",
    "with open(patient_ID_list_file, \"r\") as f:\n",
    "    pat_list = csv.reader(f)\n",
    "    for row in pat_list:\n",
    "        patient_ID = row[0]\n",
    "\n",
    "        existing_patient_image_directory = image_dir_path / patient_ID\n",
    "        copy_patient_image_directory = copy_dir_path / patient_ID\n",
    "\n",
    "        if copy_patient_image_directory.exists():\n",
    "            print(f\"Copy of {patient_ID}'s image file already exists.\")\n",
    "        else:\n",
    "            destination = shutil.copytree(existing_patient_image_directory, copy_patient_image_directory, dirs_exist_ok=True)"
   ]
  },
  {
   "cell_type": "markdown",
   "metadata": {},
   "source": [
    "## Make ROI yaml file"
   ]
  },
  {
   "cell_type": "code",
   "execution_count": 6,
   "metadata": {},
   "outputs": [],
   "source": [
    "roi_name = \"GTV\"\n",
    "roi_matches = {roi_name: \"GTVp$\"}\n",
    "\n",
    "with open(f\"{raw_images_dir}/mit_roi_names.yaml\", \"w\") as outfile:\n",
    "    yaml.dump(roi_matches, outfile)"
   ]
  },
  {
   "cell_type": "markdown",
   "metadata": {},
   "source": [
    "## Run med-imagetools to get converted nifti files and get dataset summary file"
   ]
  },
  {
   "cell_type": "code",
   "execution_count": 7,
   "metadata": {},
   "outputs": [],
   "source": [
    "mit_output_dir = proc_images_dir / \"mit_outputs\"\n",
    "modalities = \"CT,RTSTRUCT\"\n",
    "roi_yaml_path = raw_images_dir / \"mit_roi_names.yaml\""
   ]
  },
  {
   "cell_type": "code",
   "execution_count": 18,
   "metadata": {},
   "outputs": [
    {
     "name": "stderr",
     "output_type": "stream",
     "text": [
      "  0%|          | 0/714 [00:00<?, ?it/s]"
     ]
    },
    {
     "name": "stderr",
     "output_type": "stream",
     "text": [
      "100%|██████████| 714/714 [01:53<00:00,  6.30it/s]\n",
      "/home/bioinf/bhklab/radiomics/readii-fmcib/.pixi/envs/default/lib/python3.12/site-packages/imgtools/modules/datagraph.py:430: UserWarning: This pattern is interpreted as a regular expression, and has match groups. To actually get the groups, use str.extract.\n",
      "  relevant_study_id = self.df_new.loc[(self.df_new.edge_type.str.contains(regex_term)), \"study_x\"].unique()\n"
     ]
    },
    {
     "name": "stdout",
     "output_type": "stream",
     "text": [
      "Dataset already processed...\n"
     ]
    }
   ],
   "source": [
    "pipeline = AutoPipeline(input_directory=raw_images_dir,\n",
    "                        output_directory=mit_output_dir,\n",
    "                        modalities=modalities,\n",
    "                        spacing=(0., 0., 0.),\n",
    "                        read_yaml_label_names = True,\n",
    "                        ignore_missing_regex = True,\n",
    "                        roi_yaml_path = roi_yaml_path,\n",
    "                        update=True\n",
    "                        )\n",
    "\n",
    "pipeline.run()"
   ]
  },
  {
   "cell_type": "markdown",
   "metadata": {},
   "source": [
    "## Load the CT and RTSTURCT to run through READII to generate negative controls, crop and save the original and negative control images"
   ]
  },
  {
   "cell_type": "code",
   "execution_count": 8,
   "metadata": {},
   "outputs": [],
   "source": [
    "# Read in the dataset.csv file made by med-imagetools autopipeline\n",
    "images_metadata = pd.read_csv(Path(mit_output_dir, \"dataset.csv\"), index_col=0)\n",
    "\n",
    "# Set up the output directories for all the READII processed images\n",
    "# Make main output directory for cropped nifti images\n",
    "cropped_images_dir = proc_images_dir / \"cropped_images\"\n",
    "\n",
    "# Make output directory for the original CT\n",
    "cropped_original_dir = cropped_images_dir / \"original\"\n",
    "Path.mkdir(cropped_original_dir, parents=True, exist_ok=True)\n",
    "\n",
    "# Make list of negative control types and regions\n",
    "# Regions refer to what portion of the CT image to apply the negative control to\n",
    "# Types refer to what will be done with the voxels of the CT image in the region\n",
    "negative_control_regions = [\"full\", \"roi\", \"non_roi\"]\n",
    "negative_control_types = [\"shuffled\", \"randomized_sampled\"]"
   ]
  },
  {
   "cell_type": "markdown",
   "metadata": {},
   "source": [
    "### NOTE: The following cell will take a while to run. "
   ]
  },
  {
   "cell_type": "code",
   "execution_count": null,
   "metadata": {},
   "outputs": [],
   "source": [
    "for image_idx in tqdm(images_metadata.index):\n",
    "    image_idx_metadata = images_metadata.loc[image_idx]\n",
    "\n",
    "    patient_ID = image_idx_metadata['patient_ID']\n",
    "    # print(f\"Processing {patient_ID}...\")\n",
    "\n",
    "    # Load in the CT image output from med-imagetools\n",
    "    ct_image = sitk.ReadImage(Path(mit_output_dir, image_idx, \"CT\", \"CT.nii.gz\"))\n",
    "    \n",
    "    # Load in the RTSTRUCT image output from med-imagetools\n",
    "    roi_image = sitk.ReadImage(Path(mit_output_dir, image_idx, \"RTSTRUCT_CT\", f\"{roi_name}.nii.gz\"))\n",
    "\n",
    "    # print(\"----> CT and RTSTRUCT loaded.\")\n",
    "\n",
    "    # Find the bounding box of the ROI to crop CT image to\n",
    "    bounding_box = find_bbox(roi_image)\n",
    "\n",
    "    # Process the original CT image\n",
    "    # Crop the CT image to the bounding box and resize it to 50x50x50 for input to FMCIB\n",
    "    cropped_ct_image = crop_bbox(ct_image, bounding_box, (50, 50, 50))\n",
    "    \n",
    "    # Save the cropped CT image to the cropped_original_dir\n",
    "    cropped_output_path = cropped_original_dir / f\"{patient_ID}.nii.gz\"\n",
    "    sitk.WriteImage(cropped_ct_image, cropped_output_path)\n",
    "    # print(\"----> Original CT image cropped to the ROI bounding box, resized, and saved.\")\n",
    "\n",
    "    # Process the negative control CT images\n",
    "    for negative_control in itertools.product(NEG_CONTROL_TYPES, NEG_CONTROL_REGIONS):\n",
    "        # Make negative control image using READII\n",
    "        negative_control_ct_image = applyNegativeControl(ct_image, \n",
    "                                                         negativeControlType=negative_control[0], \n",
    "                                                         negativeControlRegion=negative_control[1],\n",
    "                                                         roiMask=roi_image,\n",
    "                                                         randomSeed=10)\n",
    "    \n",
    "        # Crop the negative control CT image to the bounding box and resize it to 50x50x50 for input to FMCIB\n",
    "        cropped_nc_ct_image = crop_bbox(negative_control_ct_image, bounding_box, (50, 50, 50))\n",
    "\n",
    "        # Set up the directory to save the cropped negative control CT images\n",
    "        cropped_nc_dir = cropped_images_dir / f\"{negative_control[0]}_{negative_control[1]}\"\n",
    "        Path.mkdir(cropped_nc_dir, parents=True, exist_ok=True)\n",
    "\n",
    "        # Save the cropped negative control CT image\n",
    "        cropped_nc_output_path = cropped_nc_dir / f\"{patient_ID}.nii.gz\"\n",
    "        sitk.WriteImage(cropped_nc_ct_image, cropped_nc_output_path)\n",
    "        # print(f\"----> Negative control {negative_control[0]}_{negative_control[1]} cropped to the ROI bounding box, resized, and saved.\")  "
   ]
  },
  {
   "cell_type": "markdown",
   "metadata": {},
   "source": [
    "## Set up expected input file for FMCIB"
   ]
  },
  {
   "cell_type": "code",
   "execution_count": 12,
   "metadata": {},
   "outputs": [
    {
     "name": "stdout",
     "output_type": "stream",
     "text": [
      "Number of images for original: 713\n",
      "Number of images for randomized_sampled_full: 713\n",
      "Number of images for randomized_sampled_non_roi: 713\n",
      "Number of images for randomized_sampled_roi: 713\n",
      "Number of images for shuffled_full: 713\n",
      "Number of images for shuffled_non_roi: 713\n",
      "Number of images for shuffled_roi: 713\n"
     ]
    }
   ],
   "source": [
    "for image_type_dir_path in sorted(cropped_images_dir.glob(\"*\")):\n",
    "    image_type = image_type_dir_path.name\n",
    "    \n",
    "    image_type_file_paths = sorted(image_type_dir_path.glob(\"*.nii.gz\"))\n",
    "\n",
    "    # Create a dataframe with these image paths and all coordinates set to 0\n",
    "    fmcib_input_df = pd.DataFrame(data = {\"image_path\": image_type_file_paths})\n",
    "    fmcib_input_df[\"coordX\"] = 0\n",
    "    fmcib_input_df[\"coordY\"] = 0\n",
    "    fmcib_input_df[\"coordZ\"] = 0\n",
    "\n",
    "    # Print length of the dataframe - for RADCURE test, should be 713\n",
    "    print(f\"Number of images for {image_type}: {fmcib_input_df.shape[0]}\")\n",
    "\n",
    "    fmcib_input_df.to_csv(Path(proc_images_dir, \"fmcib_input\", f\"fmcib_input_{DATASET_NAME}_{image_type}.csv\"), index=False)"
   ]
  },
  {
   "cell_type": "code",
   "execution_count": null,
   "metadata": {},
   "outputs": [],
   "source": []
  }
 ],
 "metadata": {
  "kernelspec": {
   "display_name": "readii_fmcib",
   "language": "python",
   "name": "readii_fmcib"
  },
  "language_info": {
   "codemirror_mode": {
    "name": "ipython",
    "version": 3
   },
   "file_extension": ".py",
   "mimetype": "text/x-python",
   "name": "python",
   "nbconvert_exporter": "python",
   "pygments_lexer": "ipython3",
   "version": "3.12.7"
  }
 },
 "nbformat": 4,
 "nbformat_minor": 2
}
