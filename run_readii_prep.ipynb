{
 "cells": [
  {
   "cell_type": "markdown",
   "metadata": {},
   "source": [
    "# Code to run READII negative controls through FMCIB\n",
    "\n",
    "This code utilizes the RADCURE dataset from TCIA. This dataset is under the TCIA Restricted License, so users will need to request access prior to running this code.\n",
    "\n",
    "We will be using the RADCURE test subset specified in the clinical data sheet. "
   ]
  },
  {
   "cell_type": "markdown",
   "metadata": {},
   "source": [
    "## [INSERT steps to set up pixi environment for this notebook here]"
   ]
  },
  {
   "cell_type": "markdown",
   "metadata": {},
   "source": [
    "# Steps\n",
    "Initialize dataset name\n",
    "\n",
    "Set up data directories\n",
    "\n",
    "Move raw RADCURE image data to `rawdata/RADCURE/images`\n",
    "\n",
    "Make ROI yaml file\n",
    "\n",
    "Run med-imagetools on the raw image data to organize it and get metdata file and convert the CT and RTSTRUCT files to niftis\n",
    "\n",
    "Run READII to generate negative control images and save them as niftis to the procdata directory\n",
    "\n",
    "  - Should end up with 6 niftis along with the original CT and RTSTRUCT nifit files \n",
    "\n",
    "Run process_readii.py to crop the images to the ROI and save them as niftis to the procdata directory and get the FMCIB input csv file\n",
    "\n",
    "Run code from infer.py to get the FMCIB features extracted from each image type\n",
    "\n",
    "Create correlation matrix of the features and display"
   ]
  },
  {
   "cell_type": "markdown",
   "metadata": {},
   "source": [
    "## Initialize dataset name"
   ]
  },
  {
   "cell_type": "code",
   "execution_count": 1,
   "metadata": {},
   "outputs": [],
   "source": [
    "DATASET_NAME = \"RADCURE\""
   ]
  },
  {
   "cell_type": "markdown",
   "metadata": {},
   "source": [
    "## Set up data directories"
   ]
  },
  {
   "cell_type": "code",
   "execution_count": 8,
   "metadata": {},
   "outputs": [],
   "source": [
    "import os\n",
    "import itertools\n",
    "\n",
    "# Set up raw and processed data directories\n",
    "for combo in itertools.product([\"rawdata\", \"procdata\"], [DATASET_NAME], [\"clinical\", \"images\"]):\n",
    "    os.makedirs(os.path.join(\"../\", *combo), exist_ok=True)\n",
    "\n",
    "raw_images_dir = f\"rawdata/{DATASET_NAME}/images\"\n",
    "proc_images_dir = f\"procdata/{DATASET_NAME}/images\"\n",
    "\n",
    "# Set up results directory\n",
    "for combo in itertools.product([\"results\"], [DATASET_NAME], [\"features\", \"analysis/correlations\"]):\n",
    "    os.makedirs(os.path.join(\"../\", *combo), exist_ok=True)\n"
   ]
  },
  {
   "cell_type": "markdown",
   "metadata": {},
   "source": [
    "### Here is where you move the raw image data for RADCURE test set to the `rawdata/RADCURE/images` directory"
   ]
  },
  {
   "cell_type": "markdown",
   "metadata": {},
   "source": [
    "## Make ROI yaml file"
   ]
  },
  {
   "cell_type": "code",
   "execution_count": 9,
   "metadata": {},
   "outputs": [],
   "source": [
    "import yaml\n",
    "\n",
    "roi_name = \"GTV\"\n",
    "roi_matches = dict(roi_name = \"GTVp$\")\n",
    "\n",
    "with open(f\"{raw_images_dir}/mit_roi_names.yaml\", \"w\") as outfile:\n",
    "    yaml.dump(roi_matches, outfile)"
   ]
  },
  {
   "cell_type": "markdown",
   "metadata": {},
   "source": [
    "## Run med-imagetools"
   ]
  },
  {
   "cell_type": "code",
   "execution_count": 10,
   "metadata": {},
   "outputs": [
    {
     "name": "stderr",
     "output_type": "stream",
     "text": [
      "\u001b[2m2024-12-02T16:28:00-0500\u001b[0m [\u001b[33m\u001b[1mwarning  \u001b[0m] \u001b[1mThe dataset has already been indexed. Use --update to force update.\u001b[0m [\u001b[0m\u001b[1m\u001b[34mimgtools\u001b[0m]\u001b[0m \u001b[36mcall\u001b[0m=\u001b[35mops.__init__:218\u001b[0m\n"
     ]
    },
    {
     "name": "stdout",
     "output_type": "stream",
     "text": [
      "Dataset already processed...\n"
     ]
    },
    {
     "name": "stderr",
     "output_type": "stream",
     "text": [
      "/Users/katyscott/Documents/READII-2-ROQC/readii-fmcib/.pixi/envs/default/lib/python3.12/site-packages/imgtools/modules/datagraph.py:430: UserWarning: This pattern is interpreted as a regular expression, and has match groups. To actually get the groups, use str.extract.\n",
      "  relevant_study_id = self.df_new.loc[(self.df_new.edge_type.str.contains(regex_term)), \"study_x\"].unique()\n"
     ]
    }
   ],
   "source": [
    "from imgtools.autopipeline import AutoPipeline\n",
    "\n",
    "mit_output_dir = f\"{proc_images_dir}/mit_outputs\"\n",
    "modalities = \"CT,RTSTRUCT\"\n",
    "roi_yaml_path = f\"{raw_images_dir}/mit_roi_names.yaml\"\n",
    "\n",
    "pipeline = AutoPipeline(input_directory=raw_images_dir,\n",
    "                        output_directory=mit_output_dir,\n",
    "                        modalities=modalities,\n",
    "                        spacing=(0., 0., 0.),\n",
    "                        read_yaml_label_names = True,\n",
    "                        ignore_missing_regex = True,\n",
    "                        roi_yaml_path = roi_yaml_path\n",
    "                        )\n",
    "\n",
    "pipeline.run()"
   ]
  },
  {
   "cell_type": "markdown",
   "metadata": {},
   "source": [
    "## Load the CT and RTSTURCT to run through READII to generate negative controls, crop and save the original and negative control images"
   ]
  },
  {
   "cell_type": "code",
   "execution_count": null,
   "metadata": {},
   "outputs": [
    {
     "data": {
      "application/vnd.jupyter.widget-view+json": {
       "model_id": "ce176e86ed6d43ddb62be6fc7afb012f",
       "version_major": 2,
       "version_minor": 0
      },
      "text/plain": [
       "  0%|          | 0/1 [00:00<?, ?it/s]"
      ]
     },
     "metadata": {},
     "output_type": "display_data"
    }
   ],
   "source": [
    "import pandas as pd\n",
    "import SimpleITK as sitk\n",
    "from readii.negative_controls import applyNegativeControl\n",
    "from tqdm.notebook import tqdm, trange\n",
    "\n",
    "import sys; sys.path.append(\"code\")\n",
    "from process_readii import find_bbox, crop_bbox\n",
    "\n",
    "# Read in the dataset.csv file made by med-imagetools autopipeline\n",
    "images_metadata = pd.read_csv(os.path.join(mit_output_dir, \"dataset.csv\"), index_col=0)\n",
    "\n",
    "# Set up the output directories for all the READII processed images\n",
    "# Make main output directory for cropped nifti images\n",
    "cropped_images_dir = os.path.join(proc_images_dir, \"/cropped_images\")\n",
    "\n",
    "# Make output directory for the original CT\n",
    "cropped_original_dir = os.path.join(cropped_images_dir, \"original\")\n",
    "os.makedirs(cropped_original_dir, exist_ok=True)\n",
    "\n",
    "# Make list of negative control types and regions\n",
    "# Regions refer to what portion of the CT image to apply the negative control to\n",
    "# Types refer to what will be done with the voxels of the CT image in the region\n",
    "negative_control_regions = [\"full\", \"roi\", \"non_roi\"]\n",
    "negative_control_types = [\"shuffled\", \"randomized_sampled\"]\n",
    "\n",
    "for image_idx in tqdm(images_metadata.index):\n",
    "    image_idx_metadata = images_metadata.loc[image_idx]\n",
    "\n",
    "    patient_ID = image_idx_metadata['patient_ID']\n",
    "    # print(f\"Processing {patient_ID}...\")\n",
    "\n",
    "    # Load in the CT image output from med-imagetools\n",
    "    ct_image = sitk.ReadImage(os.path.join(mit_output_dir, image_idx, \"CT\", \"CT.nii.gz\"))\n",
    "    \n",
    "    # Load in the RTSTRUCT image output from med-imagetools\n",
    "    roi_image = sitk.ReadImage(os.path.join(mit_output_dir, image_idx, \"RTSTRUCT_CT\", f\"{roi_name}.nii.gz\"))\n",
    "\n",
    "    # print(\"----> CT and RTSTRUCT loaded.\")\n",
    "\n",
    "    # Find the bounding box of the ROI to crop CT image to\n",
    "    bounding_box = find_bbox(roi_image)\n",
    "\n",
    "    # Process the original CT image\n",
    "    # Crop the CT image to the bounding box and resize it to 50x50x50 for input to FMCIB\n",
    "    cropped_ct_image = crop_bbox(ct_image, bounding_box, (50, 50, 50))\n",
    "    \n",
    "    # Save the cropped CT image to the cropped_original_dir\n",
    "    cropped_output_path = os.path.join(cropped_original_dir, f\"{patient_ID}.nii.gz\")\n",
    "    sitk.WriteImage(cropped_ct_image, cropped_output_path)\n",
    "    # print(\"----> Original CT image cropped to the ROI bounding box, resized, and saved.\")\n",
    "\n",
    "    # Process the negative control CT images\n",
    "    for negative_control in itertools.product(negative_control_types, negative_control_regions):\n",
    "        # Make negative control image using READII\n",
    "        negative_control_ct_image = applyNegativeControl(ct_image, \n",
    "                                                         negativeControlType=negative_control[0], \n",
    "                                                         negativeControlRegion=negative_control[1],\n",
    "                                                         roiMask=roi_image,\n",
    "                                                         randomSeed=10)\n",
    "    \n",
    "        # Crop the negative control CT image to the bounding box and resize it to 50x50x50 for input to FMCIB\n",
    "        cropped_nc_ct_image = crop_bbox(negative_control_ct_image, bounding_box, (50, 50, 50))\n",
    "\n",
    "        # Set up the directory to save the cropped negative control CT images\n",
    "        cropped_nc_dir = os.path.join(cropped_images_dir, f\"{negative_control[0]}_{negative_control[1]}\")\n",
    "        if not os.path.exists(cropped_nc_dir):\n",
    "            os.mkdir(cropped_nc_dir)\n",
    "\n",
    "        # Save the cropped negative control CT image\n",
    "        cropped_nc_output_path = os.path.join(cropped_nc_dir, f\"{patient_ID}.nii.gz\")\n",
    "        sitk.WriteImage(cropped_nc_ct_image, cropped_nc_output_path)\n",
    "        # print(f\"----> Negative control {negative_control[0]}_{negative_control[1]} cropped to the ROI bounding box, resized, and saved.\")  "
   ]
  },
  {
   "cell_type": "code",
   "execution_count": null,
   "metadata": {},
   "outputs": [],
   "source": [
    "# Make the input CSV file for FMCIB for each CT type\n",
    "os.makedirs(os.path.join(proc_images_dir, \"fmcib_input\"), exist_ok=True)\n",
    "\n",
    "for image_type in sorted(os.listdir(cropped_images_dir)):\n",
    "    # Get the full paths to the files in each image type directory\n",
    "    image_type_file_paths = [os.path.join(cropped_images_dir, image_type, image) \n",
    "                             for image in os.listdir(os.path.join(cropped_images_dir, image_type))]\n",
    "    \n",
    "    # Create a dataframe with these image paths and all coordinates set to 0\n",
    "    fmcib_input_df = pd.DataFrame(columns=[\"image_path\"], data = [image_type_file_paths])\n",
    "    fmcib_input_df[\"coordX\"] = 0\n",
    "    fmcib_input_df[\"coordY\"] = 0\n",
    "    fmcib_input_df[\"coordZ\"] = 0\n",
    "\n",
    "    # Write the CSV file\n",
    "    fmcib_input_df.to_csv(os.path.join(proc_images_dir, \"fmcib_input\", f\"fmcib_input_{DATASET_NAME}_{image_type}.csv\"), index=False)\n"
   ]
  },
  {
   "cell_type": "code",
   "execution_count": null,
   "metadata": {},
   "outputs": [],
   "source": []
  }
 ],
 "metadata": {
  "kernelspec": {
   "display_name": "default",
   "language": "python",
   "name": "python3"
  },
  "language_info": {
   "codemirror_mode": {
    "name": "ipython",
    "version": 3
   },
   "file_extension": ".py",
   "mimetype": "text/x-python",
   "name": "python",
   "nbconvert_exporter": "python",
   "pygments_lexer": "ipython3",
   "version": "3.12.7"
  }
 },
 "nbformat": 4,
 "nbformat_minor": 2
}
