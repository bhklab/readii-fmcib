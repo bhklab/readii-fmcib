{
 "cells": [
  {
   "cell_type": "markdown",
   "metadata": {},
   "source": [
    "# Create READII negative control CTs to run through FMCIB\n",
    "\n",
    "This code utilizes the RADCURE dataset from TCIA. This dataset is under the TCIA Restricted License, so users will need to request access prior to running this code.\n",
    "\n",
    "We will be using the RADCURE test subset specified in the clinical data sheet. "
   ]
  },
  {
   "cell_type": "markdown",
   "metadata": {},
   "source": [
    "## Set up pixi environment kernel\n",
    "\n",
    "1. Run the following commands in the terminal:\n",
    "\n",
    "    ```bash\n",
    "    $ pixi install -e default\n",
    "\n",
    "    $ pixi run kernel\n",
    "    ```\n",
    "\n",
    "2. In the `Select Kernel` menu at the top right of the notebook, select `Jupyter Kernel` as the source. \n",
    "\n",
    "3. Refresh the options and one called `readii-fmcib` should appear. Select this option."
   ]
  },
  {
   "cell_type": "markdown",
   "metadata": {},
   "source": [
    "## Imports"
   ]
  },
  {
   "cell_type": "code",
   "execution_count": 1,
   "metadata": {},
   "outputs": [],
   "source": [
    "import itertools\n",
    "import yaml\n",
    "\n",
    "from imgtools.autopipeline import AutoPipeline\n",
    "from pathlib import Path\n",
    "from readii.io.loaders import loadImageDatasetConfig\n",
    "\n",
    "import sys; sys.path.append(\"code\")\n",
    "from process_crop import prep_data_for_fmcib"
   ]
  },
  {
   "cell_type": "markdown",
   "metadata": {},
   "source": [
    "## Settings for processing"
   ]
  },
  {
   "cell_type": "code",
   "execution_count": 11,
   "metadata": {},
   "outputs": [],
   "source": [
    "config = loadImageDatasetConfig(\"RADCURE\", Path(\"config\"))\n",
    "\n",
    "DATASET_NAME = config[\"dataset_name\"]\n",
    "\n",
    "ROI_PATTERN = config[\"roi_pattern\"]\n",
    "ROI_NAME = list(ROI_PATTERN.keys())[0]\n",
    "\n",
    "MODALITIES = config['modalities']\n",
    "\n",
    "NEG_CONTROL_REGIONS = config[\"negative_control_regions\"]\n",
    "NEG_CONTROL_TYPES = config[\"negative_control_types\"]"
   ]
  },
  {
   "cell_type": "markdown",
   "metadata": {},
   "source": [
    "## Set up data directories"
   ]
  },
  {
   "cell_type": "code",
   "execution_count": 3,
   "metadata": {},
   "outputs": [],
   "source": [
    "for combo in itertools.product([\"rawdata\", \"procdata\"], [DATASET_NAME], [\"clinical\", \"images\"]):\n",
    "    Path(*combo).mkdir(parents=True, exist_ok=True)\n",
    "\n",
    "raw_images_dir = Path(\"rawdata\", DATASET_NAME , \"images\")\n",
    "proc_images_dir = Path(\"procdata\", DATASET_NAME, \"images\")\n",
    "\n",
    "# Directory for output of MIT run\n",
    "nifti_dir = proc_images_dir / \"converted_niftis\""
   ]
  },
  {
   "cell_type": "markdown",
   "metadata": {},
   "source": [
    "## Make ROI yaml file to use with Med-ImageTools"
   ]
  },
  {
   "cell_type": "code",
   "execution_count": 4,
   "metadata": {},
   "outputs": [],
   "source": [
    "roi_yaml_path = raw_images_dir / \"mit_roi_names.yaml\"\n",
    "\n",
    "if not roi_yaml_path.exists():\n",
    "    with open(roi_yaml_path, \"w\") as outfile:\n",
    "        yaml.dump(ROI_PATTERN, outfile)"
   ]
  },
  {
   "cell_type": "markdown",
   "metadata": {},
   "source": [
    "## Run Med-ImageTools on downloaded data to index and convert to niftis\n",
    "\n",
    "**Put path to directory containing the image data below:**"
   ]
  },
  {
   "cell_type": "code",
   "execution_count": 5,
   "metadata": {},
   "outputs": [],
   "source": [
    "# Path to the directory containing the patient ID level directories of the images\n",
    "path_to_downloaded_data = Path(\"INSERT_PATH_HERE\")"
   ]
  },
  {
   "cell_type": "code",
   "execution_count": null,
   "metadata": {},
   "outputs": [],
   "source": [
    "pipeline = AutoPipeline(input_directory=path_to_downloaded_data,\n",
    "                        output_directory=nifti_dir,\n",
    "                        modalities=MODALITIES,\n",
    "                        spacing=(0.,0.,0.),\n",
    "                        read_yaml_label_names = True,\n",
    "                        ignore_missing_regex = True,\n",
    "                        roi_yaml_path = roi_yaml_path\n",
    "                        )\n",
    "\n",
    "pipeline.run()"
   ]
  },
  {
   "cell_type": "markdown",
   "metadata": {},
   "source": [
    "# FMCIB Input Prep\n",
    "\n",
    "### READII Negative Controls\n",
    "\n",
    "Create each type of negative control specified by `NEGATIVE_CONTROL_REGIONS` and `NEGATIVE_CONTROL_TYPES` using `READII`\n",
    "\n",
    "### Crop and resize for FMCIB expected input size\n",
    "\n",
    "Crop and resize the images to `FMCIB_INPUT_SIZE` (can be set in next cell) with one of three `CROP_METHOD` options:\n",
    "\n",
    "1. `bbox` - Find bounding box based on dimensions of the region of interest (ROI), crop image to these coordinates, resize/resample to `FMCIB_INPUT_SIZE`.\n",
    "2. `cube` - Create cube based on largest ROI bounding box dimension, crop image to these coordinates, resize/resample to `FMCIB_INPUT_SIZE`.\n",
    "3. `centroid` - Create `FMCIB_INPUT_SIZE` cube centered on the ROI centroid, crop to these coordinates.\n",
    "\n",
    "#### *All of these settings can be set in the `config/DATASET_NAME.yaml` file.*"
   ]
  },
  {
   "cell_type": "code",
   "execution_count": 13,
   "metadata": {},
   "outputs": [],
   "source": [
    "CROP_METHOD = config['crop_method'] # Options are bbox, cube, centroid\n",
    "FMCIB_INPUT_SIZE = tuple(config['crop_size'])"
   ]
  },
  {
   "cell_type": "markdown",
   "metadata": {},
   "source": [
    "This will only run on one crop method at a time. To run on each crop method, the `config` file must be updated and reloaded."
   ]
  },
  {
   "cell_type": "code",
   "execution_count": null,
   "metadata": {},
   "outputs": [],
   "source": [
    "# Crop and resize the original images\n",
    "print(f\"Processing original images...\")\n",
    "original_image_df = prep_data_for_fmcib(input_image_dir = nifti_dir,\n",
    "                                        output_dir_path = proc_images_dir,\n",
    "                                        crop_method = CROP_METHOD,\n",
    "                                        input_size = FMCIB_INPUT_SIZE,\n",
    "                                        roi_name = ROI_NAME,\n",
    "                                        negative_control_strategy = \"original\",\n",
    "                                        parallel = True\n",
    "                                        )\n",
    "\n",
    "# Make negative control, then crop and resize images\n",
    "for type in NEG_CONTROL_TYPES:\n",
    "    for region in NEG_CONTROL_REGIONS:\n",
    "        print(f\"Creating and processing {type} {region} negative control...\")\n",
    "        if region == \"non_roi\":\n",
    "            # Non_roi processing takes us too much memory and fails in parallelization\n",
    "            parallel = False\n",
    "        else: \n",
    "            parallel = True\n",
    "        \n",
    "        neg_control_df = prep_data_for_fmcib(input_image_dir = nifti_dir,\n",
    "                                             output_dir_path = proc_images_dir,\n",
    "                                             crop_method = CROP_METHOD,\n",
    "                                             input_size = FMCIB_INPUT_SIZE,\n",
    "                                             roi_name = ROI_NAME,\n",
    "                                             negative_control_strategy = type,\n",
    "                                             negative_control_region = region,\n",
    "                                             parallel = parallel)"
   ]
  }
 ],
 "metadata": {
  "kernelspec": {
   "display_name": "readii_fmcib",
   "language": "python",
   "name": "readii_fmcib"
  },
  "language_info": {
   "codemirror_mode": {
    "name": "ipython",
    "version": 3
   },
   "file_extension": ".py",
   "mimetype": "text/x-python",
   "name": "python",
   "nbconvert_exporter": "python",
   "pygments_lexer": "ipython3",
   "version": "3.12.7"
  }
 },
 "nbformat": 4,
 "nbformat_minor": 2
}
