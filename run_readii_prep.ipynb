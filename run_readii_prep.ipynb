{
 "cells": [
  {
   "cell_type": "markdown",
   "metadata": {},
   "source": [
    "# Create READII negative control CTs to run through FMCIB\n",
    "\n",
    "This code utilizes the RADCURE dataset from TCIA. This dataset is under the TCIA Restricted License, so users will need to request access prior to running this code.\n",
    "\n",
    "We will be using the RADCURE test subset specified in the clinical data sheet. "
   ]
  },
  {
   "cell_type": "markdown",
   "metadata": {},
   "source": [
    "## Set up pixi environment kernel\n",
    "\n",
    "1. Run the following commands in the terminal:\n",
    "\n",
    "    ```bash\n",
    "    $ pixi install\n",
    "\n",
    "    $ pixi run make_kernel\n",
    "    ```\n",
    "\n",
    "2. In the `Select Kernel` menu at the top right of the notebook, select `Jupyter Kernel` as the source. \n",
    "\n",
    "3. Refresh the options and one called `readii-fmcib` should appear. Select this option."
   ]
  },
  {
   "cell_type": "markdown",
   "metadata": {},
   "source": [
    "## Imports"
   ]
  },
  {
   "cell_type": "code",
   "execution_count": 1,
   "metadata": {},
   "outputs": [],
   "source": [
    "import itertools\n",
    "import yaml\n",
    "\n",
    "from imgtools.autopipeline import AutoPipeline\n",
    "from pathlib import Path\n",
    "from readii.io.loaders import loadImageDatasetConfig\n",
    "\n",
    "import sys; sys.path.append(\"code\")\n",
    "from process_crop import prep_data_for_fmcib"
   ]
  },
  {
   "cell_type": "markdown",
   "metadata": {},
   "source": [
    "## Settings for processing"
   ]
  },
  {
   "cell_type": "code",
   "execution_count": 2,
   "metadata": {},
   "outputs": [],
   "source": [
    "config = loadImageDatasetConfig(\"RADCURE\", Path(\"config\"))\n",
    "\n",
    "DATASET_NAME = config[\"dataset_name\"]\n",
    "\n",
    "ROI_PATTERN = config[\"roi_pattern\"]\n",
    "ROI_NAME = list(ROI_PATTERN.keys())[0]\n",
    "\n",
    "MODALITIES = config['modalities']\n",
    "\n",
    "NEG_CONTROL_REGIONS = config[\"negative_control_regions\"]\n",
    "NEG_CONTROL_TYPES = config[\"negative_control_types\"]"
   ]
  },
  {
   "cell_type": "markdown",
   "metadata": {},
   "source": [
    "## Set up data directories"
   ]
  },
  {
   "cell_type": "code",
   "execution_count": 3,
   "metadata": {},
   "outputs": [],
   "source": [
    "for combo in itertools.product([\"rawdata\", \"procdata\"], [DATASET_NAME], [\"clinical\", \"images\"]):\n",
    "    Path(*combo).mkdir(parents=True, exist_ok=True)\n",
    "\n",
    "raw_images_dir = Path(\"rawdata\", DATASET_NAME , \"images\")\n",
    "proc_images_dir = Path(\"procdata\", DATASET_NAME, \"images\")\n",
    "\n",
    "# Directory for output of MIT run\n",
    "nifti_dir = proc_images_dir / \"converted_niftis\""
   ]
  },
  {
   "cell_type": "markdown",
   "metadata": {},
   "source": [
    "## Make ROI yaml file to use with Med-ImageTools"
   ]
  },
  {
   "cell_type": "code",
   "execution_count": 5,
   "metadata": {},
   "outputs": [],
   "source": [
    "roi_yaml_path = raw_images_dir / \"mit_roi_names.yaml\"\n",
    "\n",
    "if not roi_yaml_path.exists():\n",
    "    with open(roi_yaml_path, \"w\") as outfile:\n",
    "        yaml.dump(ROI_PATTERN, outfile)"
   ]
  },
  {
   "cell_type": "markdown",
   "metadata": {},
   "source": [
    "## Run Med-ImageTools on downloaded data to index and convert to niftis\n",
    "\n",
    "**Put path to directory containing the image data below:**"
   ]
  },
  {
   "cell_type": "code",
   "execution_count": 6,
   "metadata": {},
   "outputs": [],
   "source": [
    "# Path to the directory containing the patient ID level directories of the images\n",
    "# path_to_downloaded_data = Path(\"INSERT_PATH_HERE\")\n",
    "path_to_downloaded_data = Path(\"rawdata/RADCURE/UNZIPPED_IMAGES_DO_NOT_DELETE/\")"
   ]
  },
  {
   "cell_type": "code",
   "execution_count": 7,
   "metadata": {},
   "outputs": [
    {
     "name": "stderr",
     "output_type": "stream",
     "text": [
      "\u001b[2m2025-01-08T11:46:50-0500\u001b[0m [\u001b[33m\u001b[1mwarning  \u001b[0m] \u001b[1mThe dataset has already been indexed. Use --update to force update.\u001b[0m [\u001b[0m\u001b[1m\u001b[34mimgtools\u001b[0m]\u001b[0m \u001b[36mcall\u001b[0m=\u001b[35mops.__init__:218\u001b[0m\n",
      "/home/bioinf/bhklab/radiomics/readii-fmcib/.pixi/envs/default/lib/python3.12/site-packages/imgtools/modules/datagraph.py:430: UserWarning: This pattern is interpreted as a regular expression, and has match groups. To actually get the groups, use str.extract.\n",
      "  relevant_study_id = self.df_new.loc[(self.df_new.edge_type.str.contains(regex_term)), \"study_x\"].unique()\n"
     ]
    },
    {
     "name": "stdout",
     "output_type": "stream",
     "text": [
      "Dataset already processed...\n"
     ]
    }
   ],
   "source": [
    "pipeline = AutoPipeline(input_directory=path_to_downloaded_data,\n",
    "                        output_directory=nifti_dir,\n",
    "                        modalities=MODALITIES,\n",
    "                        spacing=(0.,0.,0.),\n",
    "                        read_yaml_label_names = True,\n",
    "                        ignore_missing_regex = True,\n",
    "                        roi_yaml_path = roi_yaml_path\n",
    "                        )\n",
    "\n",
    "pipeline.run()"
   ]
  },
  {
   "cell_type": "markdown",
   "metadata": {},
   "source": [
    "# FMCIB Input Prep\n",
    "\n",
    "### READII Negative Controls\n",
    "\n",
    "Create each type of negative control specified by `NEGATIVE_CONTROL_REGIONS` and `NEGATIVE_CONTROL_TYPES` using `READII`\n",
    "\n",
    "### Crop and resize for FMCIB expected input size\n",
    "\n",
    "Crop and resize the images to `FMCIB_INPUT_SIZE` (can be set in next cell) with one of three `CROP_METHOD` options:\n",
    "\n",
    "1. `bbox` - Find bounding box based on dimensions of the region of interest (ROI), crop image to these coordinates, resize/resample to `FMCIB_INPUT_SIZE`.\n",
    "2. `cube` - Create cube based on largest ROI bounding box dimension, crop image to these coordinates, resize/resample to `FMCIB_INPUT_SIZE`.\n",
    "3. `centroid` - Create `FMCIB_INPUT_SIZE` cube centered on the ROI centroid, crop to these coordinates."
   ]
  },
  {
   "cell_type": "code",
   "execution_count": 8,
   "metadata": {},
   "outputs": [],
   "source": [
    "CROP_METHOD = \"bbox\" # Options are bbox, cube, centroid\n",
    "FMCIB_INPUT_SIZE = (50,50,50)"
   ]
  },
  {
   "cell_type": "code",
   "execution_count": 10,
   "metadata": {},
   "outputs": [
    {
     "name": "stdout",
     "output_type": "stream",
     "text": [
      "Processing original images...\n",
      "Data already processed for bbox and original\n",
      "Creating and processing ('shuffled', 'full') negative control...\n",
      "Data already processed for bbox and shuffled_full\n",
      "Creating and processing ('shuffled', 'roi') negative control...\n",
      "Data already processed for bbox and shuffled_roi\n",
      "Creating and processing ('shuffled', 'non_roi') negative control...\n",
      "Creating and processing ('randomized_sampled', 'full') negative control...\n",
      "Creating and processing ('randomized_sampled', 'roi') negative control...\n",
      "Creating and processing ('randomized_sampled', 'non_roi') negative control...\n"
     ]
    }
   ],
   "source": [
    "# Crop and resize the original images\n",
    "print(f\"Processing original images...\")\n",
    "original_image_df = prep_data_for_fmcib(input_image_dir = nifti_dir,\n",
    "                                        output_dir_path = proc_images_dir,\n",
    "                                        crop_method = CROP_METHOD,\n",
    "                                        input_size = FMCIB_INPUT_SIZE,\n",
    "                                        roi_name = ROI_NAME,\n",
    "                                        negative_control_strategy = \"original\",\n",
    "                                        )\n",
    "\n",
    "# Make negative control, then crop and resize images\n",
    "\n",
    "for negative_control in itertools.product(NEG_CONTROL_TYPES, NEG_CONTROL_REGIONS):\n",
    "    print(f\"Creating and processing {negative_control} negative control...\")\n",
    "    neg_control_df = prep_data_for_fmcib(input_image_dir = nifti_dir,\n",
    "                                         output_dir_path = proc_images_dir,\n",
    "                                         crop_method = CROP_METHOD,\n",
    "                                         input_size = FMCIB_INPUT_SIZE,\n",
    "                                         roi_name = ROI_NAME,\n",
    "                                         negative_control_strategy = negative_control[0],\n",
    "                                         negative_control_region = negative_control[1])"
   ]
  },
  {
   "cell_type": "code",
   "execution_count": null,
   "metadata": {},
   "outputs": [],
   "source": []
  }
 ],
 "metadata": {
  "kernelspec": {
   "display_name": "readii_fmcib",
   "language": "python",
   "name": "readii_fmcib"
  },
  "language_info": {
   "codemirror_mode": {
    "name": "ipython",
    "version": 3
   },
   "file_extension": ".py",
   "mimetype": "text/x-python",
   "name": "python",
   "nbconvert_exporter": "python",
   "pygments_lexer": "ipython3",
   "version": "3.12.7"
  }
 },
 "nbformat": 4,
 "nbformat_minor": 2
}
