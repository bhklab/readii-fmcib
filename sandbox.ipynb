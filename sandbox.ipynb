{
 "cells": [
  {
   "cell_type": "markdown",
   "metadata": {},
   "source": [
    "Copy test subset of cropped image data over to this directory"
   ]
  },
  {
   "cell_type": "code",
   "execution_count": 7,
   "metadata": {},
   "outputs": [],
   "source": [
    "from pathlib import Path\n",
    "import pandas as pd\n",
    "\n",
    "crop_type =  \"cube_50\" # \"centroid\"\n",
    "\n",
    "from_directory = Path(f\"/home/bioinf/bhklab/radiomics/readii-negative-controls/procdata/RADCURE/readii_{crop_type}_crop\")\n",
    "proc_data_path = Path(f\"procdata/RADCURE/images/\")\n",
    "\n",
    "patient_ID_list_file = Path(\"./rawdata/RADCURE/clinical/col_test_patient_IDs_RADCURE.csv\")\n",
    "test_pat_ids = pd.read_csv(patient_ID_list_file, header=None, names=[\"pat_id\"])"
   ]
  },
  {
   "cell_type": "code",
   "execution_count": 8,
   "metadata": {},
   "outputs": [],
   "source": [
    "import shutil\n",
    "\n",
    "cropped_image_path = proc_data_path / \"cropped_images\" / f\"cropped_{crop_type}\"\n",
    "\n",
    "for path in sorted(from_directory.iterdir()):\n",
    "    pat_id = path.stem[-12:]\n",
    "    if pat_id in test_pat_ids[\"pat_id\"].unique():\n",
    "        dest_path = cropped_image_path / pat_id\n",
    "        if not dest_path.exists():\n",
    "            destination = shutil.copytree(path, dest_path, dirs_exist_ok=True)"
   ]
  },
  {
   "cell_type": "code",
   "execution_count": 9,
   "metadata": {},
   "outputs": [
    {
     "data": {
      "text/plain": [
       "Index(['RADCURE-0521', 'RADCURE-0862', 'RADCURE-1096', 'RADCURE-1486',\n",
       "       'RADCURE-1504', 'RADCURE-1678', 'RADCURE-1694', 'RADCURE-1759',\n",
       "       'RADCURE-3266', 'RADCURE-3309', 'RADCURE-3344', 'RADCURE-3441',\n",
       "       'RADCURE-3496', 'RADCURE-3625', 'RADCURE-3632', 'RADCURE-3671',\n",
       "       'RADCURE-3799', 'RADCURE-3801', 'RADCURE-3918', 'RADCURE-4035',\n",
       "       'RADCURE-4070'],\n",
       "      dtype='object')"
      ]
     },
     "execution_count": 9,
     "metadata": {},
     "output_type": "execute_result"
    }
   ],
   "source": [
    "test_pats = pd.Index(test_pat_ids['pat_id'])\n",
    "cropped_pats = pd.Index([path.stem[-12:] for path in sorted(from_directory.iterdir())])\n",
    "\n",
    "test_pats.difference(cropped_pats)"
   ]
  },
  {
   "cell_type": "code",
   "execution_count": 10,
   "metadata": {},
   "outputs": [],
   "source": [
    "from readii.io.loaders.general import loadImageDatasetConfig\n",
    "import itertools\n",
    "\n",
    "config = loadImageDatasetConfig(\"RADCURE\", Path(\"config\"))\n",
    "\n",
    "DATASET_NAME = config[\"dataset_name\"]\n",
    "NEG_CONTROL_REGIONS = config[\"negative_control_regions\"]\n",
    "NEG_CONTROL_TYPES = config[\"negative_control_types\"]\n",
    "\n",
    "# Get full list of image types to run FMCIB on\n",
    "negative_controls = [f\"{negative_control[0]}_{negative_control[1]}\" for negative_control in itertools.product(NEG_CONTROL_TYPES, NEG_CONTROL_REGIONS)]\n",
    "image_types = [\"original\"] + negative_controls"
   ]
  },
  {
   "cell_type": "code",
   "execution_count": 11,
   "metadata": {},
   "outputs": [],
   "source": [
    "for image_type in image_types:\n",
    "    fmcib_input_df = pd.DataFrame(columns=['image_path', 'coordX', 'coordY', 'coordZ'])\n",
    "    fmcib_input_df['image_path'] = [pat_id / f\"{image_type}.nii.gz\" for pat_id in sorted(cropped_image_path.iterdir())]\n",
    "    fmcib_input_df[\"coordX\"] = 0\n",
    "    fmcib_input_df[\"coordY\"] = 0\n",
    "    fmcib_input_df[\"coordZ\"] = 0\n",
    "\n",
    "    fmcib_input_df.to_csv(Path(proc_data_path, \"fmcib_input\", f\"cropped_{crop_type}\", f\"fmcib_input_{DATASET_NAME}_{image_type}.csv\"), index=False)"
   ]
  },
  {
   "cell_type": "code",
   "execution_count": null,
   "metadata": {},
   "outputs": [],
   "source": []
  }
 ],
 "metadata": {
  "kernelspec": {
   "display_name": "readii_fmcib",
   "language": "python",
   "name": "readii_fmcib"
  },
  "language_info": {
   "codemirror_mode": {
    "name": "ipython",
    "version": 3
   },
   "file_extension": ".py",
   "mimetype": "text/x-python",
   "name": "python",
   "nbconvert_exporter": "python",
   "pygments_lexer": "ipython3",
   "version": "3.12.8"
  }
 },
 "nbformat": 4,
 "nbformat_minor": 2
}
