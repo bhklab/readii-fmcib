{
 "cells": [
  {
   "cell_type": "markdown",
   "metadata": {},
   "source": [
    "# Run original and READII negative control CTs through FMCIB\n",
    "\n",
    "This notebook is set up to use outputs from the `run_readii_prep.ipynb` notebook. \n",
    "\n",
    "CT images cropped around a Gross Tumour Volume (GTV), resized, and saved as nifti files are fed into an instance of FMCIB for inference and all features are saved."
   ]
  },
  {
   "cell_type": "markdown",
   "metadata": {},
   "source": [
    "## Set up pixi environment kernel\n",
    "\n",
    "1. Run the following commands in the terminal:\n",
    "\n",
    "    ```bash\n",
    "    $ pixi install\n",
    "\n",
    "    $ pixi shell -e fmcib\n",
    "\n",
    "    $ ipython kernel install --user --name=fmcib --display-name=fmcib\n",
    "    ```\n",
    "\n",
    "2. In the `Select Kernel` menu at the top right of the notebook, select `Jupyter Kernel` as the source. \n",
    "\n",
    "3. Refresh the options and one called `fmcib` should appear. Select this option."
   ]
  },
  {
   "cell_type": "markdown",
   "metadata": {},
   "source": [
    "## Imports"
   ]
  },
  {
   "cell_type": "code",
   "execution_count": 2,
   "metadata": {},
   "outputs": [],
   "source": [
    "import yaml\n",
    "from pathlib import Path\n",
    "\n",
    "import sys; sys.path.append(\"code\")\n",
    "from infer import runFMCIBInfer"
   ]
  },
  {
   "cell_type": "markdown",
   "metadata": {},
   "source": [
    "## Initialize dataset name and negative control settings"
   ]
  },
  {
   "cell_type": "code",
   "execution_count": 3,
   "metadata": {},
   "outputs": [],
   "source": [
    "config = yaml.load(open(\"config/RADCURE.yaml\", \"r\"), Loader=yaml.FullLoader)\n",
    "\n",
    "DATASET_NAME = config[\"dataset_name\"]\n",
    "\n",
    "NEG_CONTROL_REGIONS = config[\"negative_control_regions\"]\n",
    "NEG_CONTROL_TYPES = config[\"negative_control_types\"]"
   ]
  },
  {
   "cell_type": "markdown",
   "metadata": {},
   "source": [
    "## Set up data directories"
   ]
  },
  {
   "cell_type": "code",
   "execution_count": 5,
   "metadata": {},
   "outputs": [],
   "source": [
    "# Path to dir containing fmcib input csvs\n",
    "fmcib_csv_dir = Path(\"procdata\", DATASET_NAME, \"images/fmcib_input\")"
   ]
  },
  {
   "cell_type": "markdown",
   "metadata": {},
   "source": [
    "## Run each image type and crop method through FMCIB and save out the resulting features\n",
    "\n",
    "This will run on all crop methods present the `procdata/images/fmcib/` directory."
   ]
  },
  {
   "cell_type": "code",
   "execution_count": null,
   "metadata": {},
   "outputs": [],
   "source": [
    "for crop_type_dir_path in fmcib_csv_dir.glob(\"*/\"):\n",
    "    crop_type = crop_type_dir_path.name\n",
    "    # Set up results directory\n",
    "    features_dir = Path(\"results\", DATASET_NAME, \"fmcib_features\", crop_type)\n",
    "    Path.mkdir(features_dir, parents=True, exist_ok=True)\n",
    "\n",
    "    for fmcib_csv_path in crop_type_dir_path.glob(\"*.csv\"):\n",
    "        feature_file_save_path = Path(features_dir, f\"fmcib_features_{fmcib_csv_path.name.removeprefix('fmcib_input_')}\")\n",
    "        \n",
    "        # Only run inference if the output does not already exist\n",
    "        if not feature_file_save_path.exists():\n",
    "            runFMCIBInfer(feature_file_save_path=str(feature_file_save_path), \n",
    "                        csv_path=str(fmcib_csv_path), \n",
    "                        weights_path=\"model_weights.torch\",\n",
    "                        precropped=True)"
   ]
  },
  {
   "cell_type": "code",
   "execution_count": null,
   "metadata": {},
   "outputs": [],
   "source": []
  }
 ],
 "metadata": {
  "kernelspec": {
   "display_name": "fmcib",
   "language": "python",
   "name": "fmcib"
  },
  "language_info": {
   "codemirror_mode": {
    "name": "ipython",
    "version": 3
   },
   "file_extension": ".py",
   "mimetype": "text/x-python",
   "name": "python",
   "nbconvert_exporter": "python",
   "pygments_lexer": "ipython3",
   "version": "3.10.16"
  }
 },
 "nbformat": 4,
 "nbformat_minor": 2
}
