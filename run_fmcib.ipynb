{
 "cells": [
  {
   "cell_type": "code",
   "execution_count": 3,
   "metadata": {},
   "outputs": [],
   "source": [
    "import yaml\n",
    "\n",
    "config = yaml.load(open(\"config/RADCURE.yaml\", \"r\"), Loader=yaml.FullLoader)\n",
    "\n",
    "DATASET_NAME = config[\"dataset_name\"]\n",
    "NEG_CONTROL_REGIONS = config[\"negative_control_regions\"]\n",
    "NEG_CONTROL_TYPES = config[\"negative_control_types\"]"
   ]
  },
  {
   "cell_type": "code",
   "execution_count": 8,
   "metadata": {},
   "outputs": [],
   "source": [
    "import itertools\n",
    "import os\n",
    "\n",
    "# Set up results directory\n",
    "features_dir = os.path.join(\"results\", DATASET_NAME, \"fmcib_features\")\n",
    "os.makedirs(features_dir, exist_ok=True)\n",
    "\n",
    "correlations_dir = os.path.join(\"results\", DATASET_NAME, \"analysis\", \"correlations\")\n",
    "os.makedirs(correlations_dir, exist_ok=True)\n"
   ]
  },
  {
   "cell_type": "code",
   "execution_count": null,
   "metadata": {},
   "outputs": [],
   "source": [
    "# Get full list of image types to run FMCIB on\n",
    "negative_controls = [f\"{negative_control[0]}_{negative_control[1]}\" for negative_control in itertools.product(NEG_CONTROL_TYPES, NEG_CONTROL_REGIONS)]\n",
    "image_types = [\"original\"] + negative_controls\n"
   ]
  },
  {
   "cell_type": "code",
   "execution_count": null,
   "metadata": {},
   "outputs": [
    {
     "name": "stdout",
     "output_type": "stream",
     "text": [
      "results/RADCURE/fmcib_features/fmcib_features_RADCURE_original.csv\n",
      "results/RADCURE/fmcib_features/fmcib_features_RADCURE_shuffled_full.csv\n",
      "results/RADCURE/fmcib_features/fmcib_features_RADCURE_shuffled_roi.csv\n",
      "results/RADCURE/fmcib_features/fmcib_features_RADCURE_shuffled_non_roi.csv\n",
      "results/RADCURE/fmcib_features/fmcib_features_RADCURE_randomized_sampled_full.csv\n",
      "results/RADCURE/fmcib_features/fmcib_features_RADCURE_randomized_sampled_roi.csv\n",
      "results/RADCURE/fmcib_features/fmcib_features_RADCURE_randomized_sampled_non_roi.csv\n"
     ]
    }
   ],
   "source": [
    "import sys; sys.path.append(\"code\")\n",
    "from infer import runFMCIBInfer\n",
    "\n",
    "for image_type in image_types:\n",
    "    # Find and load in the FMCIB input csv file\n",
    "    fmcib_input_csv_path = os.path.join(\"procdata\", DATASET_NAME, \"images\", \"fmcib_input\", f\"fmcib_input_{DATASET_NAME}_{image_type}.csv\")\n",
    "\n",
    "    feature_file_save_path = os.path.join(features_dir, f\"fmcib_features_{DATASET_NAME}_{image_type}.csv\")\n",
    "\n",
    "    runFMCIBInfer(feature_file_save_path=feature_file_save_path, \n",
    "                  csv_path=fmcib_input_csv_path, \n",
    "                  weights_path=None\n",
    "                  precropped=True)\n",
    "\n",
    "    "
   ]
  },
  {
   "cell_type": "code",
   "execution_count": null,
   "metadata": {},
   "outputs": [],
   "source": []
  }
 ],
 "metadata": {
  "kernelspec": {
   "display_name": "fmcib",
   "language": "python",
   "name": "python3"
  },
  "language_info": {
   "codemirror_mode": {
    "name": "ipython",
    "version": 3
   },
   "file_extension": ".py",
   "mimetype": "text/x-python",
   "name": "python",
   "nbconvert_exporter": "python",
   "pygments_lexer": "ipython3",
   "version": "3.10.15"
  }
 },
 "nbformat": 4,
 "nbformat_minor": 2
}
