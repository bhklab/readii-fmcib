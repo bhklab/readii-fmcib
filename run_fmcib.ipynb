{
 "cells": [
  {
   "cell_type": "markdown",
   "metadata": {},
   "source": [
    "# Run original and READII negative control CTs through FMCIB\n",
    "\n",
    "This notebook is set up to use outputs from the `run_readii_prep.ipynb` notebook. \n",
    "\n",
    "CT images cropped around a Gross Tumour Volume (GTV), resized, and saved as nifti files are fed into an instance of FMCIB for inference and all features are saved."
   ]
  },
  {
   "cell_type": "markdown",
   "metadata": {},
   "source": [
    "## Set up pixi environment kernel\n",
    "\n",
    "1. Run the following commands in the terminal:\n",
    "\n",
    "    ```bash\n",
    "    $ pixi install\n",
    "\n",
    "    $ pixi shell -e fmcib\n",
    "\n",
    "    $ ipython kernel install --user --name=fmcib --display-name=fmcib\n",
    "    ```\n",
    "\n",
    "2. In the `Select Kernel` menu at the top right of the notebook, select `Jupyter Kernel` as the source. \n",
    "\n",
    "3. Refresh the options and one called `fmcib` should appear. Select this option."
   ]
  },
  {
   "cell_type": "markdown",
   "metadata": {},
   "source": [
    "## Imports"
   ]
  },
  {
   "cell_type": "code",
   "execution_count": 1,
   "metadata": {},
   "outputs": [],
   "source": [
    "import yaml\n",
    "import itertools\n",
    "from pathlib import Path\n",
    "\n",
    "import sys; sys.path.append(\"code\")\n",
    "from infer import runFMCIBInfer"
   ]
  },
  {
   "cell_type": "markdown",
   "metadata": {},
   "source": [
    "## Initialize dataset name and negative control settings"
   ]
  },
  {
   "cell_type": "code",
   "execution_count": 2,
   "metadata": {},
   "outputs": [],
   "source": [
    "config = yaml.load(open(\"config/RADCURE.yaml\", \"r\"), Loader=yaml.FullLoader)\n",
    "\n",
    "DATASET_NAME = config[\"dataset_name\"]\n",
    "NEG_CONTROL_REGIONS = config[\"negative_control_regions\"]\n",
    "NEG_CONTROL_TYPES = config[\"negative_control_types\"]"
   ]
  },
  {
   "cell_type": "markdown",
   "metadata": {},
   "source": [
    "## Set up data directories"
   ]
  },
  {
   "cell_type": "code",
   "execution_count": 3,
   "metadata": {},
   "outputs": [],
   "source": [
    "# Set up results directory\n",
    "features_dir = Path(\"results\", DATASET_NAME, \"fmcib_features\")\n",
    "Path.mkdir(features_dir, parents=True, exist_ok=True)\n",
    "\n",
    "correlations_dir = Path(\"results\", DATASET_NAME, \"analysis\", \"correlations\")\n",
    "Path.mkdir(correlations_dir, parents=True, exist_ok=True)"
   ]
  },
  {
   "cell_type": "markdown",
   "metadata": {},
   "source": [
    "## Generate list of image types to run through FMCIB"
   ]
  },
  {
   "cell_type": "code",
   "execution_count": 4,
   "metadata": {},
   "outputs": [],
   "source": [
    "# Get full list of image types to run FMCIB on\n",
    "negative_controls = [f\"{negative_control[0]}_{negative_control[1]}\" for negative_control in itertools.product(NEG_CONTROL_TYPES, NEG_CONTROL_REGIONS)]\n",
    "image_types = [\"original\"] + negative_controls"
   ]
  },
  {
   "cell_type": "markdown",
   "metadata": {},
   "source": [
    "## Run each image type through FMCIB and save out the resulting features"
   ]
  },
  {
   "cell_type": "code",
   "execution_count": 6,
   "metadata": {},
   "outputs": [
    {
     "name": "stderr",
     "output_type": "stream",
     "text": [
      "2024-12-17 18:39:48.940 | INFO     | fmcib.run:get_features:25 - Loading CSV file ...\n",
      "2024-12-17 18:39:48.944 | INFO     | fmcib.preprocessing:get_dataloader:48 - Building dataloader instance ...\n",
      "You are using `torch.load` with `weights_only=False` (the current default value), which uses the default pickle module implicitly. It is possible to construct malicious pickle data which will execute arbitrary code during unpickling (See https://github.com/pytorch/pytorch/blob/main/SECURITY.md#untrusted-models for more details). In a future release, the default value for `weights_only` will be flipped to `True`. This limits the functions that could be executed during unpickling. Arbitrary objects will no longer be allowed to be loaded via this mode unless they are explicitly allowlisted by the user via `torch.serialization.add_safe_globals`. We recommend you start setting `weights_only=True` for any use case where you don't have full control of the loaded file. Please open an issue on GitHub for any issues related to this experimental feature.\n",
      "2024-12-17 18:39:54.711 | WARNING  | fmcib.models.load_model:load:104 - Missing keys: [] and unexpected keys: []\n",
      "2024-12-17 18:39:54.712 | INFO     | fmcib.models.load_model:load:129 - Loaded pretrained model weights \n",
      "\n",
      "2024-12-17 18:39:54.747 | INFO     | fmcib.run:get_features:47 - Running inference over batches ...\n",
      "100%|██████████| 68/68 [00:16<00:00,  4.14it/s]\n",
      "2024-12-17 18:40:12.042 | INFO     | fmcib.run:get_features:25 - Loading CSV file ...\n",
      "2024-12-17 18:40:12.046 | INFO     | fmcib.preprocessing:get_dataloader:48 - Building dataloader instance ...\n",
      "You are using `torch.load` with `weights_only=False` (the current default value), which uses the default pickle module implicitly. It is possible to construct malicious pickle data which will execute arbitrary code during unpickling (See https://github.com/pytorch/pytorch/blob/main/SECURITY.md#untrusted-models for more details). In a future release, the default value for `weights_only` will be flipped to `True`. This limits the functions that could be executed during unpickling. Arbitrary objects will no longer be allowed to be loaded via this mode unless they are explicitly allowlisted by the user via `torch.serialization.add_safe_globals`. We recommend you start setting `weights_only=True` for any use case where you don't have full control of the loaded file. Please open an issue on GitHub for any issues related to this experimental feature.\n",
      "2024-12-17 18:40:15.055 | WARNING  | fmcib.models.load_model:load:104 - Missing keys: [] and unexpected keys: []\n",
      "2024-12-17 18:40:15.056 | INFO     | fmcib.models.load_model:load:129 - Loaded pretrained model weights \n",
      "\n",
      "2024-12-17 18:40:15.088 | INFO     | fmcib.run:get_features:47 - Running inference over batches ...\n",
      "100%|██████████| 68/68 [00:22<00:00,  3.01it/s]\n",
      "2024-12-17 18:40:38.514 | INFO     | fmcib.run:get_features:25 - Loading CSV file ...\n",
      "2024-12-17 18:40:38.518 | INFO     | fmcib.preprocessing:get_dataloader:48 - Building dataloader instance ...\n",
      "You are using `torch.load` with `weights_only=False` (the current default value), which uses the default pickle module implicitly. It is possible to construct malicious pickle data which will execute arbitrary code during unpickling (See https://github.com/pytorch/pytorch/blob/main/SECURITY.md#untrusted-models for more details). In a future release, the default value for `weights_only` will be flipped to `True`. This limits the functions that could be executed during unpickling. Arbitrary objects will no longer be allowed to be loaded via this mode unless they are explicitly allowlisted by the user via `torch.serialization.add_safe_globals`. We recommend you start setting `weights_only=True` for any use case where you don't have full control of the loaded file. Please open an issue on GitHub for any issues related to this experimental feature.\n",
      "2024-12-17 18:40:41.393 | WARNING  | fmcib.models.load_model:load:104 - Missing keys: [] and unexpected keys: []\n",
      "2024-12-17 18:40:41.394 | INFO     | fmcib.models.load_model:load:129 - Loaded pretrained model weights \n",
      "\n",
      "2024-12-17 18:40:41.427 | INFO     | fmcib.run:get_features:47 - Running inference over batches ...\n",
      "100%|██████████| 68/68 [00:18<00:00,  3.68it/s]\n",
      "2024-12-17 18:41:00.750 | INFO     | fmcib.run:get_features:25 - Loading CSV file ...\n",
      "2024-12-17 18:41:00.753 | INFO     | fmcib.preprocessing:get_dataloader:48 - Building dataloader instance ...\n",
      "You are using `torch.load` with `weights_only=False` (the current default value), which uses the default pickle module implicitly. It is possible to construct malicious pickle data which will execute arbitrary code during unpickling (See https://github.com/pytorch/pytorch/blob/main/SECURITY.md#untrusted-models for more details). In a future release, the default value for `weights_only` will be flipped to `True`. This limits the functions that could be executed during unpickling. Arbitrary objects will no longer be allowed to be loaded via this mode unless they are explicitly allowlisted by the user via `torch.serialization.add_safe_globals`. We recommend you start setting `weights_only=True` for any use case where you don't have full control of the loaded file. Please open an issue on GitHub for any issues related to this experimental feature.\n",
      "2024-12-17 18:41:03.597 | WARNING  | fmcib.models.load_model:load:104 - Missing keys: [] and unexpected keys: []\n",
      "2024-12-17 18:41:03.598 | INFO     | fmcib.models.load_model:load:129 - Loaded pretrained model weights \n",
      "\n",
      "2024-12-17 18:41:03.628 | INFO     | fmcib.run:get_features:47 - Running inference over batches ...\n",
      "100%|██████████| 68/68 [00:19<00:00,  3.51it/s]\n",
      "2024-12-17 18:41:23.766 | INFO     | fmcib.run:get_features:25 - Loading CSV file ...\n",
      "2024-12-17 18:41:23.786 | INFO     | fmcib.preprocessing:get_dataloader:48 - Building dataloader instance ...\n",
      "You are using `torch.load` with `weights_only=False` (the current default value), which uses the default pickle module implicitly. It is possible to construct malicious pickle data which will execute arbitrary code during unpickling (See https://github.com/pytorch/pytorch/blob/main/SECURITY.md#untrusted-models for more details). In a future release, the default value for `weights_only` will be flipped to `True`. This limits the functions that could be executed during unpickling. Arbitrary objects will no longer be allowed to be loaded via this mode unless they are explicitly allowlisted by the user via `torch.serialization.add_safe_globals`. We recommend you start setting `weights_only=True` for any use case where you don't have full control of the loaded file. Please open an issue on GitHub for any issues related to this experimental feature.\n",
      "2024-12-17 18:41:26.622 | WARNING  | fmcib.models.load_model:load:104 - Missing keys: [] and unexpected keys: []\n",
      "2024-12-17 18:41:26.623 | INFO     | fmcib.models.load_model:load:129 - Loaded pretrained model weights \n",
      "\n",
      "2024-12-17 18:41:26.655 | INFO     | fmcib.run:get_features:47 - Running inference over batches ...\n",
      "100%|██████████| 68/68 [00:18<00:00,  3.74it/s]\n",
      "2024-12-17 18:41:45.678 | INFO     | fmcib.run:get_features:25 - Loading CSV file ...\n",
      "2024-12-17 18:41:45.697 | INFO     | fmcib.preprocessing:get_dataloader:48 - Building dataloader instance ...\n",
      "You are using `torch.load` with `weights_only=False` (the current default value), which uses the default pickle module implicitly. It is possible to construct malicious pickle data which will execute arbitrary code during unpickling (See https://github.com/pytorch/pytorch/blob/main/SECURITY.md#untrusted-models for more details). In a future release, the default value for `weights_only` will be flipped to `True`. This limits the functions that could be executed during unpickling. Arbitrary objects will no longer be allowed to be loaded via this mode unless they are explicitly allowlisted by the user via `torch.serialization.add_safe_globals`. We recommend you start setting `weights_only=True` for any use case where you don't have full control of the loaded file. Please open an issue on GitHub for any issues related to this experimental feature.\n",
      "2024-12-17 18:41:48.519 | WARNING  | fmcib.models.load_model:load:104 - Missing keys: [] and unexpected keys: []\n",
      "2024-12-17 18:41:48.520 | INFO     | fmcib.models.load_model:load:129 - Loaded pretrained model weights \n",
      "\n",
      "2024-12-17 18:41:48.549 | INFO     | fmcib.run:get_features:47 - Running inference over batches ...\n",
      "100%|██████████| 68/68 [00:18<00:00,  3.73it/s]\n",
      "2024-12-17 18:42:07.604 | INFO     | fmcib.run:get_features:25 - Loading CSV file ...\n",
      "2024-12-17 18:42:07.611 | INFO     | fmcib.preprocessing:get_dataloader:48 - Building dataloader instance ...\n",
      "You are using `torch.load` with `weights_only=False` (the current default value), which uses the default pickle module implicitly. It is possible to construct malicious pickle data which will execute arbitrary code during unpickling (See https://github.com/pytorch/pytorch/blob/main/SECURITY.md#untrusted-models for more details). In a future release, the default value for `weights_only` will be flipped to `True`. This limits the functions that could be executed during unpickling. Arbitrary objects will no longer be allowed to be loaded via this mode unless they are explicitly allowlisted by the user via `torch.serialization.add_safe_globals`. We recommend you start setting `weights_only=True` for any use case where you don't have full control of the loaded file. Please open an issue on GitHub for any issues related to this experimental feature.\n",
      "2024-12-17 18:42:10.472 | WARNING  | fmcib.models.load_model:load:104 - Missing keys: [] and unexpected keys: []\n",
      "2024-12-17 18:42:10.473 | INFO     | fmcib.models.load_model:load:129 - Loaded pretrained model weights \n",
      "\n",
      "2024-12-17 18:42:10.507 | INFO     | fmcib.run:get_features:47 - Running inference over batches ...\n",
      "100%|██████████| 68/68 [00:28<00:00,  2.40it/s]\n"
     ]
    }
   ],
   "source": [
    "for image_type in image_types:\n",
    "    # Find and load in the FMCIB input csv file\n",
    "    fmcib_input_csv_path = Path(\"procdata\", DATASET_NAME, \"images\", \"fmcib_input\", f\"fmcib_input_{DATASET_NAME}_{image_type}.csv\")\n",
    "\n",
    "    feature_file_save_path = Path(features_dir, f\"fmcib_features_{DATASET_NAME}_{image_type}.csv\")\n",
    "\n",
    "    runFMCIBInfer(feature_file_save_path=str(feature_file_save_path), \n",
    "                  csv_path=str(fmcib_input_csv_path), \n",
    "                  weights_path=None,\n",
    "                  precropped=True)"
   ]
  },
  {
   "cell_type": "code",
   "execution_count": null,
   "metadata": {},
   "outputs": [],
   "source": []
  }
 ],
 "metadata": {
  "kernelspec": {
   "display_name": "fmcib",
   "language": "python",
   "name": "fmcib"
  },
  "language_info": {
   "codemirror_mode": {
    "name": "ipython",
    "version": 3
   },
   "file_extension": ".py",
   "mimetype": "text/x-python",
   "name": "python",
   "nbconvert_exporter": "python",
   "pygments_lexer": "ipython3",
   "version": "3.10.16"
  }
 },
 "nbformat": 4,
 "nbformat_minor": 2
}
