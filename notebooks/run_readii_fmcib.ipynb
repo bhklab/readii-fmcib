{
 "cells": [
  {
   "cell_type": "markdown",
   "metadata": {},
   "source": [
    "# Code to run READII negative controls through FMCIB\n",
    "\n",
    "This code utilizes the RADCURE dataset from TCIA. This dataset is under the TCIA Restricted License, so users will need to request access prior to running this code.\n",
    "\n",
    "We will be using the RADCURE test subset specified in the clinical data sheet. "
   ]
  },
  {
   "cell_type": "markdown",
   "metadata": {},
   "source": [
    "# Steps\n",
    "0. Initialize dataset name\n",
    "1. Set up data directories\n",
    "2. Run med-imagetools on the raw image data to organize it and get metdata file and convert the CT and RTSTRUCT files to niftis\n",
    "3. Run READII to generate negative control images and save them as niftis to the procdata directory\n",
    "    - Should end up with 6 niftis along with the original CT and RTSTRUCT nifit files \n",
    "4. Run process_readii.py to crop the images to the ROI and save them as niftis to the procdata directory and get the FMCIB input csv file\n",
    "5. Run code from infer.py to get the FMCIB features extracted from each image type\n",
    "6. Create correlation matrix of the features and display"
   ]
  },
  {
   "cell_type": "code",
   "execution_count": 2,
   "metadata": {},
   "outputs": [],
   "source": [
    "DATASET_NAME = \"RADCURE\""
   ]
  },
  {
   "cell_type": "markdown",
   "metadata": {},
   "source": [
    "## 1. Set up data directories"
   ]
  },
  {
   "cell_type": "code",
   "execution_count": 4,
   "metadata": {},
   "outputs": [],
   "source": [
    "import os\n",
    "import itertools\n",
    "\n",
    "for combo in itertools.product([\"rawdata\", \"procdata\", \"results\"], [DATASET_NAME]):\n",
    "    os.makedirs(os.path.join(\"../\", *combo), exist_ok=True)"
   ]
  },
  {
   "cell_type": "code",
   "execution_count": null,
   "metadata": {},
   "outputs": [],
   "source": []
  }
 ],
 "metadata": {
  "kernelspec": {
   "display_name": "default",
   "language": "python",
   "name": "python3"
  },
  "language_info": {
   "codemirror_mode": {
    "name": "ipython",
    "version": 3
   },
   "file_extension": ".py",
   "mimetype": "text/x-python",
   "name": "python",
   "nbconvert_exporter": "python",
   "pygments_lexer": "ipython3",
   "version": "3.12.7"
  }
 },
 "nbformat": 4,
 "nbformat_minor": 2
}
